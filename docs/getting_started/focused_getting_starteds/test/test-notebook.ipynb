{
 "cells": [
  {
   "metadata": {},
   "cell_type": "markdown",
   "source": "Here is a notebook with some test stuff in it. Let's see if review looks good",
   "id": "5f600b88311a95cc"
  },
  {
   "metadata": {
    "ExecuteTime": {
     "end_time": "2025-03-12T18:07:08.507733Z",
     "start_time": "2025-03-12T18:07:08.500740Z"
    }
   },
   "cell_type": "code",
   "source": "1+1",
   "id": "fb791eeb8be71511",
   "outputs": [
    {
     "data": {
      "text/plain": [
       "2"
      ]
     },
     "execution_count": 1,
     "metadata": {},
     "output_type": "execute_result"
    }
   ],
   "execution_count": 1
  },
  {
   "metadata": {},
   "cell_type": "markdown",
   "source": "See that worked. ![alt text](../assets/Screenshot%202025-03-12%20110733.png \"Title\")",
   "id": "f20939e27e012ed5"
  },
  {
   "metadata": {},
   "cell_type": "markdown",
   "source": "Now without execution ![alt text](../assets/Screenshot%202025-03-12%20110733.webp \"Title\")",
   "id": "f6b2b06ac975ef5b"
  },
  {
   "metadata": {},
   "cell_type": "code",
   "outputs": [],
   "execution_count": null,
   "source": "",
   "id": "5bac29ed5fac628a"
  }
 ],
 "metadata": {
  "kernelspec": {
   "display_name": "Python 3",
   "language": "python",
   "name": "python3"
  },
  "language_info": {
   "codemirror_mode": {
    "name": "ipython",
    "version": 2
   },
   "file_extension": ".py",
   "mimetype": "text/x-python",
   "name": "python",
   "nbconvert_exporter": "python",
   "pygments_lexer": "ipython2",
   "version": "2.7.6"
  }
 },
 "nbformat": 4,
 "nbformat_minor": 5
}
